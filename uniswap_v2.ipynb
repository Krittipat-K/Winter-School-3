{
 "cells": [
  {
   "cell_type": "code",
   "execution_count": 1,
   "metadata": {},
   "outputs": [
    {
     "data": {
      "text/plain": [
       "True"
      ]
     },
     "execution_count": 1,
     "metadata": {},
     "output_type": "execute_result"
    }
   ],
   "source": [
    "from web3 import Web3\n",
    "from eth_account.signers.local import (\n",
    "    LocalAccount,\n",
    ")\n",
    "from hexbytes import HexBytes\n",
    "from eth_account.datastructures import (\n",
    "    SignedTransaction,\n",
    ")\n",
    "from web3.contract.contract import (\n",
    "    Contract,\n",
    "    ContractFunction\n",
    ")\n",
    "from web3.types import (\n",
    "    TxParams,\n",
    "    Wei\n",
    ")\n",
    "from eth_typing import (\n",
    "    HexStr,\n",
    "    HexAddress,\n",
    "    \n",
    ")\n",
    "import time\n",
    "import json\n",
    "from dotenv import load_dotenv\n",
    "import os\n",
    "load_dotenv()"
   ]
  },
  {
   "cell_type": "code",
   "execution_count": 2,
   "metadata": {},
   "outputs": [],
   "source": [
    "def get_ts() -> int:\n",
    "    return int(time.time())"
   ]
  },
  {
   "cell_type": "markdown",
   "metadata": {},
   "source": [
    "Connect To Web3 Wallet"
   ]
  },
  {
   "cell_type": "code",
   "execution_count": 3,
   "metadata": {},
   "outputs": [
    {
     "name": "stdout",
     "output_type": "stream",
     "text": [
      "wallet_address: 0xbFBE7f5A1C6f3eDFF4c34EbB8211141c57021798\n"
     ]
    }
   ],
   "source": [
    "RPC = 'https://mainnet.base.org'\n",
    "WETH_ADDRESS = HexAddress(HexStr(\"0x4200000000000000000000000000000000000006\"))\n",
    "private_key = os.getenv('private_key')\n",
    "w3 = Web3(Web3.HTTPProvider(RPC))\n",
    "account:LocalAccount = w3.eth.account.from_key(private_key)\n",
    "wallet_address = Web3.to_checksum_address(account.address)\n",
    "print(f'wallet_address: {wallet_address}')"
   ]
  },
  {
   "cell_type": "markdown",
   "metadata": {},
   "source": [
    "Checking ETH Balance"
   ]
  },
  {
   "cell_type": "code",
   "execution_count": 4,
   "metadata": {},
   "outputs": [
    {
     "name": "stdout",
     "output_type": "stream",
     "text": [
      "native_balance: 0.004469434535071041\n"
     ]
    }
   ],
   "source": [
    "native_balance = w3.eth.get_balance(wallet_address)/10**18\n",
    "print(f'native_balance: {native_balance}')"
   ]
  },
  {
   "cell_type": "code",
   "execution_count": 5,
   "metadata": {},
   "outputs": [],
   "source": [
    "pool_address = Web3.to_checksum_address('0x88A43bbDF9D098eEC7bCEda4e2494615dfD9bB9C')\n",
    "usdc_address = Web3.to_checksum_address('0x833589fCD6eDb6E08f4c7C32D4f71b54bdA02913')\n",
    "router_address = Web3.to_checksum_address('0x4752ba5dbc23f44d87826276bf6fd6b1c372ad24')"
   ]
  },
  {
   "cell_type": "markdown",
   "metadata": {},
   "source": [
    "Get Price of Token"
   ]
  },
  {
   "cell_type": "code",
   "execution_count": 6,
   "metadata": {},
   "outputs": [],
   "source": [
    "pool_abi = json.loads(open(r'abis\\UniswapPoolV2.json').read())\n",
    "erc20_abi = json.loads(open(r'abis\\ERC20.json').read())\n",
    "router_abi = json.loads(open(r'abis\\UniswapRouterV2.json').read())\n",
    "\n",
    "pool_contract:Contract = w3.eth.contract(address=pool_address, abi=pool_abi)\n",
    "usdc_contract:Contract = w3.eth.contract(address=usdc_address, abi=erc20_abi)\n",
    "router_contract:Contract = w3.eth.contract(address=router_address, abi=router_abi)"
   ]
  },
  {
   "cell_type": "markdown",
   "metadata": {},
   "source": [
    "get USDC balance"
   ]
  },
  {
   "cell_type": "code",
   "execution_count": 7,
   "metadata": {},
   "outputs": [
    {
     "name": "stdout",
     "output_type": "stream",
     "text": [
      "usdc_balance: 0.0\n"
     ]
    }
   ],
   "source": [
    "usdc_balance = pool_contract.functions.balanceOf(wallet_address).call()/10**6\n",
    "print(f'usdc_balance: {usdc_balance}')"
   ]
  },
  {
   "cell_type": "markdown",
   "metadata": {},
   "source": [
    "get ETH Price"
   ]
  },
  {
   "cell_type": "code",
   "execution_count": 9,
   "metadata": {},
   "outputs": [
    {
     "name": "stdout",
     "output_type": "stream",
     "text": [
      "ETH Price in USDC: 3469.2255622389944\n"
     ]
    }
   ],
   "source": [
    "liquidity = pool_contract.functions.getReserves().call()\n",
    "price = liquidity[1]/liquidity[0] *10**(18-6)\n",
    "print(f'ETH Price in USDC: {price}')"
   ]
  },
  {
   "cell_type": "markdown",
   "metadata": {},
   "source": [
    "Swap ETH for USDC"
   ]
  },
  {
   "cell_type": "code",
   "execution_count": 14,
   "metadata": {},
   "outputs": [
    {
     "name": "stdout",
     "output_type": "stream",
     "text": [
      "Transaction hash: 48c1af6db88e431ebfe6bc9d3031d904243bd13dbd5987795b3f61a546d0e689\n",
      "ETH swapped for USDC: 0.00044726818709179 ETH\n",
      "ETH balance: 0.004024740241840652\n",
      "USDC balance: 1.551579\n"
     ]
    }
   ],
   "source": [
    "slippage = 0.01 # 1%\n",
    "eth_amount = int(w3.eth.get_balance(wallet_address)/10)\n",
    "amount_out = router_contract.functions.getAmountsOut(eth_amount,[WETH_ADDRESS,usdc_address]).call()[1]\n",
    "min_amount_out = int((1-slippage)*amount_out)\n",
    "swap_func:ContractFunction = router_contract.functions.swapExactETHForTokens(min_amount_out,[WETH_ADDRESS,usdc_address],wallet_address,get_ts() + 60*10)\n",
    "nonce = w3.eth.get_transaction_count(wallet_address)\n",
    "txn_params:TxParams = {'from':wallet_address,\n",
    "                       'nonce':nonce,\n",
    "                       'value':Wei(eth_amount),}\n",
    "\n",
    "txn_params = swap_func.build_transaction(txn_params)\n",
    "signed_txn_params:SignedTransaction = w3.eth.account.sign_transaction(txn_params,private_key)\n",
    "txn:HexBytes = w3.eth.send_raw_transaction(signed_txn_params.raw_transaction)"
   ]
  },
  {
   "cell_type": "code",
   "execution_count": null,
   "metadata": {},
   "outputs": [],
   "source": [
    "print(f'Waiting for transaction to be mined...')\n",
    "w3.eth.wait_for_transaction_receipt(txn)\n",
    "print(f'Transaction hash: {txn.to_0x_hex()}')\n",
    "print(f'ETH swapped for USDC: {eth_amount/10**18} ETH')\n",
    "print(f'ETH balance: {w3.eth.get_balance(wallet_address)/10**18}')\n",
    "print(f'USDC balance: {usdc_contract.functions.balanceOf(wallet_address).call()/10**6}')"
   ]
  }
 ],
 "metadata": {
  "kernelspec": {
   "display_name": "myenv",
   "language": "python",
   "name": "python3"
  },
  "language_info": {
   "codemirror_mode": {
    "name": "ipython",
    "version": 3
   },
   "file_extension": ".py",
   "mimetype": "text/x-python",
   "name": "python",
   "nbconvert_exporter": "python",
   "pygments_lexer": "ipython3",
   "version": "3.11.11"
  }
 },
 "nbformat": 4,
 "nbformat_minor": 2
}
